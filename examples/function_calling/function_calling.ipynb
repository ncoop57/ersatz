{
 "cells": [
  {
   "cell_type": "markdown",
   "id": "08f83295",
   "metadata": {},
   "source": [
    "# Creating generalizable function calling chat models with synthetic data\n",
    "\n",
    "> How to write great nbdev notebooks\n",
    "\n",
    "- order: 2"
   ]
  },
  {
   "cell_type": "code",
   "execution_count": null,
   "id": "a5048e9c",
   "metadata": {},
   "outputs": [],
   "source": [
    "#| hide\n",
    "from ersatz.interactions import Conversation\n",
    "from ersatz.symbolic_representers import WebSiteRepresenter"
   ]
  },
  {
   "cell_type": "code",
   "execution_count": 4,
   "id": "3460349d",
   "metadata": {},
   "outputs": [],
   "source": [
    "import dspy\n",
    "import os\n",
    "\n",
    "api_key = '...'\n",
    "gpt4 = dspy.OpenAI(model=\"gpt-4-1106-preview\", api_key=api_key, max_tokens=4000, model_type=\"chat\")\n",
    "gpt_turbo = dspy.OpenAI(model=\"gpt-3.5-turbo\", api_key=api_key, max_tokens=4000, model_type=\"chat\")\n",
    "\n",
    "lms = [\n",
    "    {\"name\": \"GPT-4\", \"lm\": gpt4},\n",
    "    {\"name\": \"GPT-3.5-Turbo\", \"lm\": gpt_turbo},\n",
    "]"
   ]
  },
  {
   "cell_type": "code",
   "execution_count": 5,
   "id": "ce865bbf",
   "metadata": {},
   "outputs": [
    {
     "name": "stderr",
     "output_type": "stream",
     "text": [
      "/tmp/ipykernel_18446/3950483105.py:17: PydanticDeprecatedSince20: Pydantic V1 style `@validator` validators are deprecated. You should migrate to Pydantic V2 style `@field_validator` validators, see the migration guide for more details. Deprecated in Pydantic V2.0 to be removed in V3.0. See Pydantic V2 Migration Guide at https://errors.pydantic.dev/2.5/migration/\n",
      "  @pydantic.validator('call')\n"
     ]
    }
   ],
   "source": [
    "from dspy import InputField, OutputField, Signature\n",
    "from dspy.functional import TypedPredictor\n",
    "import pydantic\n",
    "\n",
    "class Function(pydantic.BaseModel):\n",
    "    name: str # the name of the function\n",
    "    parameters: dict[str, str] # the parameters of the function with their types\n",
    "    docstring: str # the docstring of the function\n",
    "    return_type: str # the return type of the function\n",
    "\n",
    "class Functions(pydantic.BaseModel):\n",
    "    functions: list[Function]\n",
    "\n",
    "class FunctionCall(pydantic.BaseModel):\n",
    "    call: str\n",
    "    \n",
    "    @pydantic.validator('call')\n",
    "    def check_syntax(cls, v):\n",
    "        try:\n",
    "            # Attempt to compile the code snippet\n",
    "            compile(v, \"<string>\", \"exec\")\n",
    "        except SyntaxError as e:\n",
    "            # If a SyntaxError is raised, the code is not syntactically valid\n",
    "            raise ValueError(f\"Code is not syntactically valid: {e}\")\n",
    "\n",
    "        return v\n",
    "    \n",
    "class FunctionCalls(pydantic.BaseModel):\n",
    "    calls: list[FunctionCall]\n",
    "\n",
    "class FunctionsSignature(Signature):\n",
    "    topic: str = InputField(desc='The topic that the new functions should be related to.')\n",
    "    functions: Functions = OutputField(desc='The list of python functions that correspond to the topic.')\n",
    "\n",
    "class FunctionCallsSignature(Signature):\n",
    "    functions: str = InputField(desc='The possible functions that can be called.')\n",
    "    history: str = InputField(desc='The conversation history that the function calls should be related to.')\n",
    "    calls: FunctionCall = OutputField(desc='A python code snippet that calls the necessary function.')\n",
    "    answer: str = OutputField(desc='The answer to the question as though the function was called.')"
   ]
  },
  {
   "cell_type": "code",
   "execution_count": 6,
   "id": "c0d6e8b0",
   "metadata": {},
   "outputs": [
    {
     "name": "stdout",
     "output_type": "stream",
     "text": [
      "GPT-4:\n",
      "\n",
      "Turn 1: Can you provide me with an example of how to sort a list of numbers in C using the bubble sort algorithm? ---\n",
      "\n",
      "Turn 2: The sorted list in ascending order using the bubble sort algorithm is [1, 1, 2, 3, 3, 4, 5, 5, 5, 6, 9].\n",
      "\n",
      "Turn 3: Could you explain how the bubble sort algorithm works in detail, and why it might not be the most efficient sorting method for large datasets? ---\n",
      "\n",
      "Turn 4: The bubble sort algorithm works by repeatedly stepping through the list to be sorted, comparing each pair of adjacent items and swapping them if they are in the wrong order. The pass through the list is repeated until no swaps are needed, which indicates that the list is sorted.\n",
      "\n",
      "The algorithm gets its name because smaller elements \"bubble\" to the top of the list. Because it only uses comparisons to operate on elements, it is a comparison sort. Although the algorithm is simple, it is too slow and impractical for most problems even when compared to insertion sort. It is not suitable for large data sets as its average and worst-case complexity are both \\(O(n^2)\\), where \\(n\\) is the number of items being sorted.\n",
      "\n",
      "Turn 5: Can you show me how to implement the bubble sort algorithm in C with a function that takes an array of integers and its length as parameters? ---\n",
      "\n",
      "Turn 6: The sorted list in ascending order using the bubble sort algorithm is [1, 1, 2, 3, 3, 4, 5, 5, 5, 6, 9].\n",
      "\n",
      "Function calls:\n",
      "('call', 'bubble_sort(list=[3, 1, 4, 1, 5, 9, 2, 6, 5, 3, 5], ascending=True)')\n",
      "('call', 'bubble_sort(list=[9, 5, 1, 3, 2, 5, 6, 3, 5, 1, 4], ascending=True)')\n",
      "('call', 'bubble_sort(list=[1, 1, 2, 3, 3, 4, 5, 5, 5, 6, 9], ascending=True)')\n",
      "name='bubble_sort' parameters={'list': 'List[int]', 'ascending': 'bool'} docstring='Sorts a list of numbers using the bubble sort algorithm.' return_type='List[int]'\n",
      "name='selection_sort' parameters={'list': 'List[int]', 'ascending': 'bool'} docstring='Sorts a list of numbers using the selection sort algorithm.' return_type='List[int]'\n",
      "name='insertion_sort' parameters={'list': 'List[int]', 'ascending': 'bool'} docstring='Sorts a list of numbers using the insertion sort algorithm.' return_type='List[int]'\n",
      "name='merge_sort' parameters={'list': 'List[int]'} docstring='Sorts a list of numbers using the merge sort algorithm.' return_type='List[int]'\n",
      "name='quick_sort' parameters={'list': 'List[int]', 'low': 'int', 'high': 'int'} docstring='Sorts a list of numbers using the quick sort algorithm.' return_type='List[int]'\n",
      "name='heap_sort' parameters={'list': 'List[int]'} docstring='Sorts a list of numbers using the heap sort algorithm.' return_type='List[int]'\n",
      "\n",
      "\n",
      "GPT-3.5-Turbo:\n",
      "\n",
      "Turn 1: What sorting algorithm would you recommend for sorting a list of numbers in C? ---\n",
      "\n",
      "Turn 2: {\n",
      "    \"sorted_numbers\": [1, 2, 3, 4, 5]\n",
      "}\n",
      "\n",
      "Turn 3: What is the time complexity of the sorting algorithm you suggested? ---\n",
      "\n",
      "Turn 4: {\n",
      "    \"sorted_numbers\": [1, 2, 3, 4, 5]\n",
      "}\n",
      "\n",
      "Turn 5: What are the advantages and disadvantages of using the sorting algorithm you recommended in C? ---\n",
      "\n",
      "Turn 6: {\n",
      "    \"sorted_numbers\": [1, 2, 3, 4, 5]\n",
      "}\n",
      "\n",
      "Function calls:\n",
      "('call', 'sorted_numbers = sort_numbers([3, 1, 2, 5, 4])')\n",
      "('call', 'sort_numbers(numbers=[5, 3, 1, 4, 2])')\n",
      "('call', 'sort_numbers([5, 3, 1, 4, 2])')\n",
      "name='sort_numbers' parameters={'numbers': 'List of numbers to be sorted'} docstring='Sorts a list of numbers in ascending order' return_type='List of sorted numbers'\n",
      "\n",
      "\n"
     ]
    }
   ],
   "source": [
    "import dspy\n",
    "from ersatz.interactions import GenerateQuestionOrInstruction\n",
    "\n",
    "class FunctionCallingConversation(dspy.Module):\n",
    "    def __init__(self):\n",
    "        self.question_instruction = dspy.Predict(GenerateQuestionOrInstruction)\n",
    "        self.get_functions = TypedPredictor(FunctionsSignature)\n",
    "        self.get_calls_answer = TypedPredictor(FunctionCallsSignature)\n",
    "    \n",
    "    def forward(self, topic, num_turns=1):\n",
    "        functions = [str(x) for x in self.get_functions(topic=topic).functions.functions]\n",
    "        initial = self.question_instruction(topic=topic, history=\"Empty\")\n",
    "        history = {\n",
    "            'conversation': [initial.question_or_instruction],\n",
    "            'function_calls': [],\n",
    "            'functions': functions\n",
    "        }\n",
    "        for i in range(num_turns):\n",
    "            response = self.get_calls_answer(functions='\\n-----\\n'.join(functions), history='\\n-----\\n'.join(history['conversation']))\n",
    "            history['conversation'].append(response.answer)\n",
    "            history['function_calls'].extend(response.calls)\n",
    "            if i < num_turns - 1:\n",
    "                query = self.question_instruction(topic=topic, history='\\n-----\\n'.join(history['conversation']))\n",
    "                history['conversation'].append(query.question_or_instruction)\n",
    "        \n",
    "        return history\n",
    "fc_conversation = FunctionCallingConversation()\n",
    "for lm_dict in lms:\n",
    "    lm, name = lm_dict[\"lm\"], lm_dict[\"name\"]\n",
    "    with dspy.context(lm=lm):\n",
    "        history = fc_conversation(\"how to sort a list of numbers in c\", num_turns=3)\n",
    "        print(f\"{name}:\\n\")\n",
    "        for i, turn in enumerate(history['conversation']):\n",
    "            print(f\"Turn {i + 1}: {turn}\\n\")\n",
    "        print(\"Function calls:\")\n",
    "        for call in history['function_calls']:\n",
    "            print(call)\n",
    "        for function in history['functions']:\n",
    "            print(function)\n",
    "        print(\"\\n\")"
   ]
  },
  {
   "cell_type": "markdown",
   "id": "10471f7d-9f32-48c1-807f-936d19c1a87e",
   "metadata": {},
   "source": []
  },
  {
   "cell_type": "code",
   "execution_count": null,
   "id": "488448e2",
   "metadata": {},
   "outputs": [],
   "source": [
    "import torch\n",
    "torch.cuda.device_count()"
   ]
  },
  {
   "cell_type": "code",
   "execution_count": null,
   "id": "5569523a",
   "metadata": {},
   "outputs": [],
   "source": [
    "exec(\"abd('hello world')\")"
   ]
  },
  {
   "cell_type": "code",
   "execution_count": null,
   "id": "d805216a",
   "metadata": {},
   "outputs": [],
   "source": [
    "def abd(a):\n",
    "    \"\""
   ]
  },
  {
   "cell_type": "code",
   "execution_count": null,
   "id": "5570f836",
   "metadata": {},
   "outputs": [],
   "source": []
  }
 ],
 "metadata": {
  "kernelspec": {
   "display_name": "python3",
   "language": "python",
   "name": "python3"
  },
  "language_info": {
   "codemirror_mode": {
    "name": "ipython",
    "version": 3
   },
   "file_extension": ".py",
   "mimetype": "text/x-python",
   "name": "python",
   "nbconvert_exporter": "python",
   "pygments_lexer": "ipython3",
   "version": "3.10.13"
  }
 },
 "nbformat": 4,
 "nbformat_minor": 5
}
