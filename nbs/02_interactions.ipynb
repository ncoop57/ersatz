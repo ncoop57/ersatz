{
 "cells": [
  {
   "cell_type": "markdown",
   "metadata": {},
   "source": [
    "# interactions\n",
    "\n",
    "> Fill in a module description here"
   ]
  },
  {
   "cell_type": "code",
   "execution_count": null,
   "metadata": {},
   "outputs": [],
   "source": [
    "#| default_exp interactions"
   ]
  },
  {
   "cell_type": "code",
   "execution_count": null,
   "metadata": {},
   "outputs": [],
   "source": [
    "#| hide\n",
    "from nbdev.showdoc import *"
   ]
  },
  {
   "cell_type": "code",
   "execution_count": null,
   "metadata": {},
   "outputs": [],
   "source": [
    "#| export\n",
    "import dspy"
   ]
  },
  {
   "cell_type": "code",
   "execution_count": null,
   "metadata": {},
   "outputs": [],
   "source": [
    "#| hide\n",
    "import os\n",
    "\n",
    "turbo = dspy.OpenAI(model='gpt-3.5-turbo', api_key=os.environ[\"OPENAI_API_KEY\"])\n",
    "dspy.settings.configure(lm=turbo)"
   ]
  },
  {
   "cell_type": "code",
   "execution_count": null,
   "metadata": {},
   "outputs": [],
   "source": [
    "#| export\n",
    "class BasicSeeder(dspy.Module): pass"
   ]
  },
  {
   "cell_type": "code",
   "execution_count": null,
   "metadata": {},
   "outputs": [],
   "source": [
    "#| export\n",
    "class EvolSeeder(dspy.Module): pass"
   ]
  },
  {
   "cell_type": "code",
   "execution_count": null,
   "metadata": {},
   "outputs": [],
   "source": [
    "#| export\n",
    "class GenerateQuestionOrInstruction(dspy.Signature):\n",
    "    \"\"\"Given a topic and a history of a conversation, generate a question or instruction for the next turn as a user.\"\"\"\n",
    "\n",
    "    topic = dspy.InputField(desc=\"The topic of the conversation.\")\n",
    "    history = dspy.InputField(desc=\"The history of the conversation. It can be empty.\")\n",
    "    question_or_instruction = dspy.OutputField(desc=\"The question or instruction for the next turn as a user. End with ---.\")\n",
    "\n",
    "class GenerateAnswer(dspy.Signature):\n",
    "    \"\"\"Given a topic and a history of a conversation, generate an answer for the next turn as an Assistant\"\"\"\n",
    "\n",
    "    topic = dspy.InputField(desc=\"The topic of the conversation.\")\n",
    "    history = dspy.InputField(desc=\"The history of the conversation with the last turn being the user's question or instruction.\")\n",
    "    answer = dspy.OutputField(desc=\"The answer for the next turn as an Assistant. End with ---.\")"
   ]
  },
  {
   "cell_type": "code",
   "execution_count": null,
   "metadata": {},
   "outputs": [],
   "source": [
    "#| export\n",
    "class Conversation(dspy.Module):\n",
    "    def __init__(self, tools=[]):\n",
    "        super().__init__()\n",
    "        self.tools = tools\n",
    "        self.conversation_starter = dspy.Predict(GenerateQuestionOrInstruction)\n",
    "        self.answer_generator = dspy.Predict(GenerateAnswer)\n",
    "        self.follow_upper = dspy.Predict(GenerateQuestionOrInstruction)\n",
    "        if len(self.tools) > 0:\n",
    "            self.tool_usage = dspy.ChainOfThought('topic, conversation_history, tools -> tool_usage', n = 5)\n",
    "\n",
    "    def forward(self, topic, num_turns=1):\n",
    "        initial = self.conversation_starter(topic=topic, history=\"Empty\")\n",
    "        history = [initial.question_or_instruction]\n",
    "        for i in range(num_turns):\n",
    "            answer = self.answer_generator(topic=topic, history=\"\\n\\n\".join(history))\n",
    "            history.append(answer.answer)\n",
    "            if i < num_turns - 1:\n",
    "                follow_up = self.follow_upper(topic=topic, history=\"\\n\\n\".join(history))\n",
    "                history.append(follow_up.question_or_instruction)\n",
    "\n",
    "        return history"
   ]
  },
  {
   "cell_type": "code",
   "execution_count": null,
   "metadata": {},
   "outputs": [],
   "source": [
    "conversation = Conversation()\n",
    "num_turns = 3\n",
    "history = conversation('How to make a cake', num_turns=num_turns)\n",
    "\n",
    "assert len(history) == num_turns * 2"
   ]
  },
  {
   "cell_type": "code",
   "execution_count": null,
   "metadata": {},
   "outputs": [],
   "source": [
    "conversation = Conversation()\n",
    "num_turns = 3\n",
    "history = conversation('<image_uploaded>: The image depicts - modern Chinese herbal medicine shop with a few cats sitting around, retro comic book style', num_turns=num_turns)\n",
    "\n",
    "assert len(history) == num_turns * 2"
   ]
  },
  {
   "cell_type": "code",
   "execution_count": null,
   "metadata": {},
   "outputs": [
    {
     "data": {
      "text/plain": [
       "['What are your thoughts on the combination of modern Chinese herbal medicine and retro comic book style in this image?',\n",
       " \"I find the combination of modern Chinese herbal medicine and retro comic book style in this image to be quite intriguing. It's a unique blend of traditional and contemporary elements, which adds a sense of nostalgia and whimsy to the scene. The presence of the cats also adds a touch of charm. Overall, it's a visually appealing and creative representation of the fusion between traditional practices and modern aesthetics.\",\n",
       " 'What other elements do you think could be added to this image to further enhance the fusion between modern Chinese herbal medicine and retro comic book style?',\n",
       " 'To further enhance the fusion between modern Chinese herbal medicine and retro comic book style in this image, additional elements could be incorporated. For example, you could include traditional Chinese herbal medicine ingredients or plants in the background, such as ginseng or goji berries, to emphasize the connection to herbal medicine. Additionally, incorporating comic book-style speech bubbles or sound effects could further enhance the retro comic book aesthetic. Another idea could be to include characters or symbols from Chinese folklore or mythology, blending traditional cultural elements with the comic book style. These additions would help to create a more immersive and cohesive fusion between the two themes.',\n",
       " 'What other cultural elements could be incorporated into this image to further enhance the fusion between modern Chinese herbal medicine and retro comic book style?',\n",
       " 'To further enhance the fusion between modern Chinese herbal medicine and retro comic book style in this image, you could incorporate other cultural elements. For example, you could include traditional Chinese calligraphy or brushstroke patterns as decorative elements in the background. Another idea could be to incorporate iconic landmarks or symbols from Chinese cities, such as the Great Wall or the Forbidden City, in a comic book-style representation. This would add a sense of place and cultural identity to the image. Additionally, you could include traditional Chinese clothing or fashion elements on the characters, blending traditional aesthetics with the retro comic book style. These cultural elements would further enrich the fusion between modern Chinese herbal medicine and retro comic book style, creating a visually captivating and culturally significant image.']"
      ]
     },
     "execution_count": null,
     "metadata": {},
     "output_type": "execute_result"
    }
   ],
   "source": [
    "history"
   ]
  },
  {
   "cell_type": "code",
   "execution_count": null,
   "metadata": {},
   "outputs": [],
   "source": [
    "#| export\n",
    "class BasicAgent(dspy.Module):\n",
    "    def __init__(self):\n",
    "        super().__init__()\n",
    "        self.intent_generator = dspy.Predict(\"observation, topic -> intent\")\n",
    "        self.plan_generator = dspy.Predict(GenerateAnswer)\n",
    "        self.action_generator = dspy.Predict(GenerateQuestionOrInstruction)\n",
    "\n",
    "    def forward(self):\n",
    "        pass"
   ]
  },
  {
   "cell_type": "code",
   "execution_count": null,
   "metadata": {},
   "outputs": [],
   "source": [
    "#| export\n",
    "class AlphaAgent(dspy.Module):\n",
    "    def __init__(self):\n",
    "        super().__init__()\n",
    "        self.intent_generator = dspy.Predict(\"observation, topic -> intent\")\n",
    "        self.analysis_generator = dspy.Predict(\"observation, intent -> analysis\")\n",
    "        self.solution_generator = dspy.Predict(\"observation, intent, analysis -> solution\")\n",
    "        self.solution_ranker = dspy.Predict(\"observation, intent, solutions -> ranked_solutions\")\n",
    "        self.action_generator = dspy.Predict(\"observation, analysis, ranked_solutions, action_history -> action\")\n",
    "\n",
    "    def forward(self, observation, topic=None, action_history=None, num_solutions=None):\n",
    "        pass"
   ]
  },
  {
   "cell_type": "code",
   "execution_count": null,
   "metadata": {},
   "outputs": [],
   "source": [
    "#| hide\n",
    "import nbdev; nbdev.nbdev_export()"
   ]
  }
 ],
 "metadata": {
  "kernelspec": {
   "display_name": "python3",
   "language": "python",
   "name": "python3"
  }
 },
 "nbformat": 4,
 "nbformat_minor": 4
}
