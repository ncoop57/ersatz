{
 "cells": [
  {
   "cell_type": "markdown",
   "metadata": {},
   "source": [
    "# interactions\n",
    "\n",
    "> Fill in a module description here"
   ]
  },
  {
   "cell_type": "code",
   "execution_count": null,
   "metadata": {},
   "outputs": [],
   "source": [
    "#| default_exp core"
   ]
  },
  {
   "cell_type": "code",
   "execution_count": null,
   "metadata": {},
   "outputs": [],
   "source": [
    "#| hide\n",
    "from nbdev.showdoc import *"
   ]
  },
  {
   "cell_type": "code",
   "execution_count": null,
   "metadata": {},
   "outputs": [],
   "source": [
    "#|export\n",
    "import dspy"
   ]
  },
  {
   "cell_type": "code",
   "execution_count": null,
   "metadata": {},
   "outputs": [],
   "source": [
    "#| export\n",
    "class Conversation(dspy.Module):\n",
    "    def __init__(self):\n",
    "        super().__init__()\n",
    "        self.conversation_starter = dspy.Predict('topic -> initial_question_or_instruction')\n",
    "        self.answer_generator = dspy.Predict('topic, conversation_history -> answer')\n",
    "        self.follow_upper = dspy.Predict('topic, conversation_history -> follow_up_question_or_instruction')\n",
    "\n",
    "    def forward(self, topic, num_turns=1):\n",
    "        initial = self.conversation_starter(topic)\n",
    "        history = [initial]\n",
    "        for i in range(num_turns):\n",
    "            history.append(self.answer_generator(topic, history))\n",
    "            if i < num_turns - 1:\n",
    "                follow_up = self.follow_upper(topic, history)\n",
    "                history.append(follow_up)\n",
    "\n",
    "        return history[:-1]"
   ]
  },
  {
   "cell_type": "code",
   "execution_count": null,
   "metadata": {},
   "outputs": [],
   "source": [
    "#| hide\n",
    "import nbdev; nbdev.nbdev_export()"
   ]
  }
 ],
 "metadata": {
  "kernelspec": {
   "display_name": "python3",
   "language": "python",
   "name": "python3"
  }
 },
 "nbformat": 4,
 "nbformat_minor": 4
}
