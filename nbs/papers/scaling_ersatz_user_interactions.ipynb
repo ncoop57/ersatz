{
 "cells": [
  {
   "cell_type": "markdown",
   "id": "08f83295",
   "metadata": {},
   "source": [
    "# Scaling Ersatz User Interactions via Foundation Models for Training AI Agents\n",
    "\n",
    "> How to write great nbdev notebooks\n",
    "\n",
    "- order: 2"
   ]
  },
  {
   "cell_type": "code",
   "execution_count": null,
   "id": "a5048e9c",
   "metadata": {},
   "outputs": [],
   "source": [
    "#| hide\n",
    "from ersatz.interactions import *\n",
    "from ersatz.symbolic_representers import *"
   ]
  },
  {
   "cell_type": "markdown",
   "id": "10471f7d-9f32-48c1-807f-936d19c1a87e",
   "metadata": {},
   "source": []
  },
  {
   "cell_type": "code",
   "execution_count": null,
   "id": "488448e2",
   "metadata": {},
   "outputs": [
    {
     "data": {
      "text/plain": [
       "8"
      ]
     },
     "execution_count": null,
     "metadata": {},
     "output_type": "execute_result"
    }
   ],
   "source": [
    "import torch\n",
    "torch.cuda.device_count()"
   ]
  },
  {
   "cell_type": "code",
   "execution_count": null,
   "id": "5569523a",
   "metadata": {},
   "outputs": [],
   "source": []
  }
 ],
 "metadata": {
  "kernelspec": {
   "display_name": "python3",
   "language": "python",
   "name": "python3"
  }
 },
 "nbformat": 4,
 "nbformat_minor": 5
}
