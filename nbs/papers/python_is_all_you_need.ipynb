{
 "cells": [
  {
   "cell_type": "markdown",
   "id": "08f83295",
   "metadata": {},
   "source": [
    "# Python is All You Need: Rephrasing Question and Instruction Tasks as Programming Problems\n",
    "\n",
    "> How to write great nbdev notebooks\n",
    "\n",
    "- order: 2"
   ]
  },
  {
   "cell_type": "markdown",
   "id": "10471f7d-9f32-48c1-807f-936d19c1a87e",
   "metadata": {},
   "source": [
    "First, make sure to start the vllm server with your model of choice:\n",
    "```sh\n",
    "CUDA_VISIBLE_DEVICES=0 python -m vllm.entrypoints.api_server --model codellama/CodeLlama-34b-Instruct-hf --port 8000\n",
    "CUDA_VISIBLE_DEVICES=0,3,6,7 python -m vllm.entrypoints.openai.api_server --model codellama/CodeLlama-70b-Instruct-hf --port 8000 --tensor-parallel-size 8\n",
    "```\n",
    "CUDA_VISIBLE_DEVICES=0 python3 -m sglang.launch_server --model-path liuhaotian/llava-v1.5-7b --tokenizer-path llava-hf/llava-1.5-7b-hf --port 30000"
   ]
  },
  {
   "cell_type": "code",
   "execution_count": null,
   "id": "a5048e9c",
   "metadata": {},
   "outputs": [],
   "source": [
    "#| hide\n",
    "from datasets import load_dataset\n",
    "from ersatz.interactions import RephraseQAorInstructResponse\n",
    "from ersatz.symbolic_representers import *\n",
    "import dspy\n",
    "\n",
    "lm = dspy.HFClientVLLM(\n",
    "    model=\"codellama/CodeLlama-70b-Instruct-hf\",\n",
    "    port=8000,\n",
    "    url=\"http://localhost\",\n",
    "    max_tokens=256\n",
    ")\n",
    "\n",
    "dspy.settings.configure(lm=lm)\n",
    "ds = load_dataset(\"tatsu-lab/alpaca\")"
   ]
  },
  {
   "cell_type": "code",
   "execution_count": null,
   "id": "8f618dae",
   "metadata": {},
   "outputs": [],
   "source": [
    "import ast\n",
    "import re\n",
    "\n",
    "def extract_markdown_code(markdown_string):\n",
    "    \"\"\"\n",
    "    Extracts code blocks from a Markdown string, supporting both standard\n",
    "    and language-specific code fences.\n",
    "\n",
    "    Args:\n",
    "        markdown_string: The Markdown string containing code blocks.\n",
    "\n",
    "    Returns:\n",
    "        A list of extracted code blocks.\n",
    "    \"\"\"\n",
    "\n",
    "    code_block_pattern = r'`(?:python)?\\n(.*?)\\n`'  # Regex pattern\n",
    "    code_blocks = re.findall(code_block_pattern, markdown_string, flags=re.DOTALL)\n",
    "\n",
    "    return code_blocks\n",
    "\n",
    "def is_parsable(code):\n",
    "    \"\"\"Checks if the given code string is valid Python syntax.\"\"\"\n",
    "    try:\n",
    "        ast.parse(code)\n",
    "        return True\n",
    "    except SyntaxError:\n",
    "        return False\n",
    "\n",
    "def is_runnable(code):\n",
    "    \"\"\"Checks if the given code string is runnable without errors.\"\"\"\n",
    "    try:\n",
    "        # Using exec for dynamic execution\n",
    "        exec(code)\n",
    "        return True\n",
    "    except Exception as e:\n",
    "        print(f\"Error running code block: {e}\")\n",
    "        return False"
   ]
  },
  {
   "cell_type": "code",
   "execution_count": null,
   "id": "4ee34e30",
   "metadata": {},
   "outputs": [
    {
     "data": {
      "application/vnd.jupyter.widget-view+json": {
       "model_id": "b9a38912231c4d538a749007c2aef897",
       "version_major": 2,
       "version_minor": 0
      },
      "text/plain": [
       "Map (num_proc=90):   0%|          | 0/52002 [00:00<?, ? examples/s]"
      ]
     },
     "metadata": {},
     "output_type": "display_data"
    },
    {
     "name": "stderr",
     "output_type": "stream",
     "text": [
      "/weka/home-nathan/ersatz/venv/lib/python3.11/site-packages/dsp/modules/hf_client.py:135: UserWarning: Persisting input arguments took 0.50s to run.If this happens often in your code, it can cause performance problems (results will be correct in all cases). The reason for this is probably some large input arguments for a wrapped function.\n",
      "  response = send_hfvllm_request_v00(\n",
      "/weka/home-nathan/ersatz/venv/lib/python3.11/site-packages/dsp/modules/hf_client.py:135: UserWarning: Persisting input arguments took 0.53s to run.If this happens often in your code, it can cause performance problems (results will be correct in all cases). The reason for this is probably some large input arguments for a wrapped function.\n",
      "  response = send_hfvllm_request_v00(\n",
      "/weka/home-nathan/ersatz/venv/lib/python3.11/site-packages/dsp/modules/hf_client.py:135: UserWarning: Persisting input arguments took 0.52s to run.If this happens often in your code, it can cause performance problems (results will be correct in all cases). The reason for this is probably some large input arguments for a wrapped function.\n",
      "  response = send_hfvllm_request_v00(\n",
      "/weka/home-nathan/ersatz/venv/lib/python3.11/site-packages/dsp/modules/hf_client.py:135: UserWarning: Persisting input arguments took 0.51s to run.If this happens often in your code, it can cause performance problems (results will be correct in all cases). The reason for this is probably some large input arguments for a wrapped function.\n",
      "  response = send_hfvllm_request_v00(\n",
      "/weka/home-nathan/ersatz/venv/lib/python3.11/site-packages/dsp/modules/hf_client.py:135: UserWarning: Persisting input arguments took 0.56s to run.If this happens often in your code, it can cause performance problems (results will be correct in all cases). The reason for this is probably some large input arguments for a wrapped function.\n",
      "  response = send_hfvllm_request_v00(\n",
      "/weka/home-nathan/ersatz/venv/lib/python3.11/site-packages/dsp/modules/hf_client.py:135: UserWarning: Persisting input arguments took 0.52s to run.If this happens often in your code, it can cause performance problems (results will be correct in all cases). The reason for this is probably some large input arguments for a wrapped function.\n",
      "  response = send_hfvllm_request_v00(\n",
      "/weka/home-nathan/ersatz/venv/lib/python3.11/site-packages/dsp/modules/hf_client.py:135: UserWarning: Persisting input arguments took 0.56s to run.If this happens often in your code, it can cause performance problems (results will be correct in all cases). The reason for this is probably some large input arguments for a wrapped function.\n",
      "  response = send_hfvllm_request_v00(\n",
      "/weka/home-nathan/ersatz/venv/lib/python3.11/site-packages/dsp/modules/hf_client.py:135: UserWarning: Persisting input arguments took 0.55s to run.If this happens often in your code, it can cause performance problems (results will be correct in all cases). The reason for this is probably some large input arguments for a wrapped function.\n",
      "  response = send_hfvllm_request_v00(\n",
      "/weka/home-nathan/ersatz/venv/lib/python3.11/site-packages/dsp/modules/hf_client.py:135: UserWarning: Persisting input arguments took 0.52s to run.If this happens often in your code, it can cause performance problems (results will be correct in all cases). The reason for this is probably some large input arguments for a wrapped function.\n",
      "  response = send_hfvllm_request_v00(\n",
      "/weka/home-nathan/ersatz/venv/lib/python3.11/site-packages/dsp/modules/hf_client.py:135: UserWarning: Persisting input arguments took 0.50s to run.If this happens often in your code, it can cause performance problems (results will be correct in all cases). The reason for this is probably some large input arguments for a wrapped function.\n",
      "  response = send_hfvllm_request_v00(\n",
      "/weka/home-nathan/ersatz/venv/lib/python3.11/site-packages/dsp/modules/hf_client.py:135: UserWarning: Persisting input arguments took 0.51s to run.If this happens often in your code, it can cause performance problems (results will be correct in all cases). The reason for this is probably some large input arguments for a wrapped function.\n",
      "  response = send_hfvllm_request_v00(\n",
      "/weka/home-nathan/ersatz/venv/lib/python3.11/site-packages/dsp/modules/hf_client.py:135: UserWarning: Persisting input arguments took 0.51s to run.If this happens often in your code, it can cause performance problems (results will be correct in all cases). The reason for this is probably some large input arguments for a wrapped function.\n",
      "  response = send_hfvllm_request_v00(\n",
      "/weka/home-nathan/ersatz/venv/lib/python3.11/site-packages/dsp/modules/hf_client.py:135: UserWarning: Persisting input arguments took 0.60s to run.If this happens often in your code, it can cause performance problems (results will be correct in all cases). The reason for this is probably some large input arguments for a wrapped function.\n",
      "  response = send_hfvllm_request_v00(\n",
      "/weka/home-nathan/ersatz/venv/lib/python3.11/site-packages/dsp/modules/hf_client.py:135: UserWarning: Persisting input arguments took 0.50s to run.If this happens often in your code, it can cause performance problems (results will be correct in all cases). The reason for this is probably some large input arguments for a wrapped function.\n",
      "  response = send_hfvllm_request_v00(\n",
      "/weka/home-nathan/ersatz/venv/lib/python3.11/site-packages/dsp/modules/hf_client.py:135: UserWarning: Persisting input arguments took 0.60s to run.If this happens often in your code, it can cause performance problems (results will be correct in all cases). The reason for this is probably some large input arguments for a wrapped function.\n",
      "  response = send_hfvllm_request_v00(\n",
      "/weka/home-nathan/ersatz/venv/lib/python3.11/site-packages/dsp/modules/hf_client.py:135: UserWarning: Persisting input arguments took 0.50s to run.If this happens often in your code, it can cause performance problems (results will be correct in all cases). The reason for this is probably some large input arguments for a wrapped function.\n",
      "  response = send_hfvllm_request_v00(\n",
      "/weka/home-nathan/ersatz/venv/lib/python3.11/site-packages/dsp/modules/hf_client.py:135: UserWarning: Persisting input arguments took 0.51s to run.If this happens often in your code, it can cause performance problems (results will be correct in all cases). The reason for this is probably some large input arguments for a wrapped function.\n",
      "  response = send_hfvllm_request_v00(\n",
      "/weka/home-nathan/ersatz/venv/lib/python3.11/site-packages/dsp/modules/hf_client.py:135: UserWarning: Persisting input arguments took 0.53s to run.If this happens often in your code, it can cause performance problems (results will be correct in all cases). The reason for this is probably some large input arguments for a wrapped function.\n",
      "  response = send_hfvllm_request_v00(\n",
      "/weka/home-nathan/ersatz/venv/lib/python3.11/site-packages/dsp/modules/hf_client.py:135: UserWarning: Persisting input arguments took 0.53s to run.If this happens often in your code, it can cause performance problems (results will be correct in all cases). The reason for this is probably some large input arguments for a wrapped function.\n",
      "  response = send_hfvllm_request_v00(\n",
      "/weka/home-nathan/ersatz/venv/lib/python3.11/site-packages/dsp/modules/hf_client.py:135: UserWarning: Persisting input arguments took 0.55s to run.If this happens often in your code, it can cause performance problems (results will be correct in all cases). The reason for this is probably some large input arguments for a wrapped function.\n",
      "  response = send_hfvllm_request_v00(\n",
      "/weka/home-nathan/ersatz/venv/lib/python3.11/site-packages/dsp/modules/hf_client.py:135: UserWarning: Persisting input arguments took 0.53s to run.If this happens often in your code, it can cause performance problems (results will be correct in all cases). The reason for this is probably some large input arguments for a wrapped function.\n",
      "  response = send_hfvllm_request_v00(\n",
      "/weka/home-nathan/ersatz/venv/lib/python3.11/site-packages/dsp/modules/hf_client.py:135: UserWarning: Persisting input arguments took 0.54s to run.If this happens often in your code, it can cause performance problems (results will be correct in all cases). The reason for this is probably some large input arguments for a wrapped function.\n",
      "  response = send_hfvllm_request_v00(\n",
      "/weka/home-nathan/ersatz/venv/lib/python3.11/site-packages/dsp/modules/hf_client.py:135: UserWarning: Persisting input arguments took 0.53s to run.If this happens often in your code, it can cause performance problems (results will be correct in all cases). The reason for this is probably some large input arguments for a wrapped function.\n",
      "  response = send_hfvllm_request_v00(\n",
      "/weka/home-nathan/ersatz/venv/lib/python3.11/site-packages/dsp/modules/hf_client.py:135: UserWarning: Persisting input arguments took 0.53s to run.If this happens often in your code, it can cause performance problems (results will be correct in all cases). The reason for this is probably some large input arguments for a wrapped function.\n",
      "  response = send_hfvllm_request_v00(\n",
      "/weka/home-nathan/ersatz/venv/lib/python3.11/site-packages/dsp/modules/hf_client.py:135: UserWarning: Persisting input arguments took 0.53s to run.If this happens often in your code, it can cause performance problems (results will be correct in all cases). The reason for this is probably some large input arguments for a wrapped function.\n",
      "  response = send_hfvllm_request_v00(\n",
      "/weka/home-nathan/ersatz/venv/lib/python3.11/site-packages/dsp/modules/hf_client.py:135: UserWarning: Persisting input arguments took 0.53s to run.If this happens often in your code, it can cause performance problems (results will be correct in all cases). The reason for this is probably some large input arguments for a wrapped function.\n",
      "  response = send_hfvllm_request_v00(\n",
      "/weka/home-nathan/ersatz/venv/lib/python3.11/site-packages/dsp/modules/hf_client.py:135: UserWarning: Persisting input arguments took 0.53s to run.If this happens often in your code, it can cause performance problems (results will be correct in all cases). The reason for this is probably some large input arguments for a wrapped function.\n",
      "  response = send_hfvllm_request_v00(\n",
      "/weka/home-nathan/ersatz/venv/lib/python3.11/site-packages/dsp/modules/hf_client.py:135: UserWarning: Persisting input arguments took 0.51s to run.If this happens often in your code, it can cause performance problems (results will be correct in all cases). The reason for this is probably some large input arguments for a wrapped function.\n",
      "  response = send_hfvllm_request_v00(\n",
      "/weka/home-nathan/ersatz/venv/lib/python3.11/site-packages/dsp/modules/hf_client.py:135: UserWarning: Persisting input arguments took 0.54s to run.If this happens often in your code, it can cause performance problems (results will be correct in all cases). The reason for this is probably some large input arguments for a wrapped function.\n",
      "  response = send_hfvllm_request_v00(\n",
      "/weka/home-nathan/ersatz/venv/lib/python3.11/site-packages/dsp/modules/hf_client.py:135: UserWarning: Persisting input arguments took 0.54s to run.If this happens often in your code, it can cause performance problems (results will be correct in all cases). The reason for this is probably some large input arguments for a wrapped function.\n",
      "  response = send_hfvllm_request_v00(\n",
      "/weka/home-nathan/ersatz/venv/lib/python3.11/site-packages/dsp/modules/hf_client.py:135: UserWarning: Persisting input arguments took 0.54s to run.If this happens often in your code, it can cause performance problems (results will be correct in all cases). The reason for this is probably some large input arguments for a wrapped function.\n",
      "  response = send_hfvllm_request_v00(\n",
      "/weka/home-nathan/ersatz/venv/lib/python3.11/site-packages/dsp/modules/hf_client.py:135: UserWarning: Persisting input arguments took 0.51s to run.If this happens often in your code, it can cause performance problems (results will be correct in all cases). The reason for this is probably some large input arguments for a wrapped function.\n",
      "  response = send_hfvllm_request_v00(\n",
      "/weka/home-nathan/ersatz/venv/lib/python3.11/site-packages/dsp/modules/hf_client.py:135: UserWarning: Persisting input arguments took 0.57s to run.If this happens often in your code, it can cause performance problems (results will be correct in all cases). The reason for this is probably some large input arguments for a wrapped function.\n",
      "  response = send_hfvllm_request_v00(\n",
      "/weka/home-nathan/ersatz/venv/lib/python3.11/site-packages/dsp/modules/hf_client.py:135: UserWarning: Persisting input arguments took 0.59s to run.If this happens often in your code, it can cause performance problems (results will be correct in all cases). The reason for this is probably some large input arguments for a wrapped function.\n",
      "  response = send_hfvllm_request_v00(\n",
      "/weka/home-nathan/ersatz/venv/lib/python3.11/site-packages/dsp/modules/hf_client.py:135: UserWarning: Persisting input arguments took 0.61s to run.If this happens often in your code, it can cause performance problems (results will be correct in all cases). The reason for this is probably some large input arguments for a wrapped function.\n",
      "  response = send_hfvllm_request_v00(\n",
      "/weka/home-nathan/ersatz/venv/lib/python3.11/site-packages/dsp/modules/hf_client.py:135: UserWarning: Persisting input arguments took 0.56s to run.If this happens often in your code, it can cause performance problems (results will be correct in all cases). The reason for this is probably some large input arguments for a wrapped function.\n",
      "  response = send_hfvllm_request_v00(\n",
      "/weka/home-nathan/ersatz/venv/lib/python3.11/site-packages/dsp/modules/hf_client.py:135: UserWarning: Persisting input arguments took 0.59s to run.If this happens often in your code, it can cause performance problems (results will be correct in all cases). The reason for this is probably some large input arguments for a wrapped function.\n",
      "  response = send_hfvllm_request_v00(\n",
      "/weka/home-nathan/ersatz/venv/lib/python3.11/site-packages/dsp/modules/hf_client.py:135: UserWarning: Persisting input arguments took 0.55s to run.If this happens often in your code, it can cause performance problems (results will be correct in all cases). The reason for this is probably some large input arguments for a wrapped function.\n",
      "  response = send_hfvllm_request_v00(\n",
      "/weka/home-nathan/ersatz/venv/lib/python3.11/site-packages/dsp/modules/hf_client.py:135: UserWarning: Persisting input arguments took 0.53s to run.If this happens often in your code, it can cause performance problems (results will be correct in all cases). The reason for this is probably some large input arguments for a wrapped function.\n",
      "  response = send_hfvllm_request_v00(\n",
      "/weka/home-nathan/ersatz/venv/lib/python3.11/site-packages/dsp/modules/hf_client.py:135: UserWarning: Persisting input arguments took 0.54s to run.If this happens often in your code, it can cause performance problems (results will be correct in all cases). The reason for this is probably some large input arguments for a wrapped function.\n",
      "  response = send_hfvllm_request_v00(\n",
      "/weka/home-nathan/ersatz/venv/lib/python3.11/site-packages/dsp/modules/hf_client.py:135: UserWarning: Persisting input arguments took 0.53s to run.If this happens often in your code, it can cause performance problems (results will be correct in all cases). The reason for this is probably some large input arguments for a wrapped function.\n",
      "  response = send_hfvllm_request_v00(\n",
      "/weka/home-nathan/ersatz/venv/lib/python3.11/site-packages/dsp/modules/hf_client.py:135: UserWarning: Persisting input arguments took 0.51s to run.If this happens often in your code, it can cause performance problems (results will be correct in all cases). The reason for this is probably some large input arguments for a wrapped function.\n",
      "  response = send_hfvllm_request_v00(\n",
      "/weka/home-nathan/ersatz/venv/lib/python3.11/site-packages/dsp/modules/hf_client.py:135: UserWarning: Persisting input arguments took 0.56s to run.If this happens often in your code, it can cause performance problems (results will be correct in all cases). The reason for this is probably some large input arguments for a wrapped function.\n",
      "  response = send_hfvllm_request_v00(\n",
      "/weka/home-nathan/ersatz/venv/lib/python3.11/site-packages/dsp/modules/hf_client.py:135: UserWarning: Persisting input arguments took 0.56s to run.If this happens often in your code, it can cause performance problems (results will be correct in all cases). The reason for this is probably some large input arguments for a wrapped function.\n",
      "  response = send_hfvllm_request_v00(\n",
      "/weka/home-nathan/ersatz/venv/lib/python3.11/site-packages/dsp/modules/hf_client.py:135: UserWarning: Persisting input arguments took 0.51s to run.If this happens often in your code, it can cause performance problems (results will be correct in all cases). The reason for this is probably some large input arguments for a wrapped function.\n",
      "  response = send_hfvllm_request_v00(\n",
      "/weka/home-nathan/ersatz/venv/lib/python3.11/site-packages/dsp/modules/hf_client.py:135: UserWarning: Persisting input arguments took 0.63s to run.If this happens often in your code, it can cause performance problems (results will be correct in all cases). The reason for this is probably some large input arguments for a wrapped function.\n",
      "  response = send_hfvllm_request_v00(\n",
      "/weka/home-nathan/ersatz/venv/lib/python3.11/site-packages/dsp/modules/hf_client.py:135: UserWarning: Persisting input arguments took 0.52s to run.If this happens often in your code, it can cause performance problems (results will be correct in all cases). The reason for this is probably some large input arguments for a wrapped function.\n",
      "  response = send_hfvllm_request_v00(\n",
      "/weka/home-nathan/ersatz/venv/lib/python3.11/site-packages/dsp/modules/hf_client.py:135: UserWarning: Persisting input arguments took 0.57s to run.If this happens often in your code, it can cause performance problems (results will be correct in all cases). The reason for this is probably some large input arguments for a wrapped function.\n",
      "  response = send_hfvllm_request_v00(\n",
      "/weka/home-nathan/ersatz/venv/lib/python3.11/site-packages/dsp/modules/hf_client.py:135: UserWarning: Persisting input arguments took 0.52s to run.If this happens often in your code, it can cause performance problems (results will be correct in all cases). The reason for this is probably some large input arguments for a wrapped function.\n",
      "  response = send_hfvllm_request_v00(\n",
      "/weka/home-nathan/ersatz/venv/lib/python3.11/site-packages/dsp/modules/hf_client.py:135: UserWarning: Persisting input arguments took 0.59s to run.If this happens often in your code, it can cause performance problems (results will be correct in all cases). The reason for this is probably some large input arguments for a wrapped function.\n",
      "  response = send_hfvllm_request_v00(\n",
      "/weka/home-nathan/ersatz/venv/lib/python3.11/site-packages/dsp/modules/hf_client.py:135: UserWarning: Persisting input arguments took 0.59s to run.If this happens often in your code, it can cause performance problems (results will be correct in all cases). The reason for this is probably some large input arguments for a wrapped function.\n",
      "  response = send_hfvllm_request_v00(\n",
      "/weka/home-nathan/ersatz/venv/lib/python3.11/site-packages/dsp/modules/hf_client.py:135: UserWarning: Persisting input arguments took 0.55s to run.If this happens often in your code, it can cause performance problems (results will be correct in all cases). The reason for this is probably some large input arguments for a wrapped function.\n",
      "  response = send_hfvllm_request_v00(\n",
      "/weka/home-nathan/ersatz/venv/lib/python3.11/site-packages/dsp/modules/hf_client.py:135: UserWarning: Persisting input arguments took 0.55s to run.If this happens often in your code, it can cause performance problems (results will be correct in all cases). The reason for this is probably some large input arguments for a wrapped function.\n",
      "  response = send_hfvllm_request_v00(\n",
      "/weka/home-nathan/ersatz/venv/lib/python3.11/site-packages/dsp/modules/hf_client.py:135: UserWarning: Persisting input arguments took 0.55s to run.If this happens often in your code, it can cause performance problems (results will be correct in all cases). The reason for this is probably some large input arguments for a wrapped function.\n",
      "  response = send_hfvllm_request_v00(\n",
      "/weka/home-nathan/ersatz/venv/lib/python3.11/site-packages/dsp/modules/hf_client.py:135: UserWarning: Persisting input arguments took 0.56s to run.If this happens often in your code, it can cause performance problems (results will be correct in all cases). The reason for this is probably some large input arguments for a wrapped function.\n",
      "  response = send_hfvllm_request_v00(\n",
      "/weka/home-nathan/ersatz/venv/lib/python3.11/site-packages/dsp/modules/hf_client.py:135: UserWarning: Persisting input arguments took 0.56s to run.If this happens often in your code, it can cause performance problems (results will be correct in all cases). The reason for this is probably some large input arguments for a wrapped function.\n",
      "  response = send_hfvllm_request_v00(\n",
      "/weka/home-nathan/ersatz/venv/lib/python3.11/site-packages/dsp/modules/hf_client.py:135: UserWarning: Persisting input arguments took 0.57s to run.If this happens often in your code, it can cause performance problems (results will be correct in all cases). The reason for this is probably some large input arguments for a wrapped function.\n",
      "  response = send_hfvllm_request_v00(\n",
      "/weka/home-nathan/ersatz/venv/lib/python3.11/site-packages/dsp/modules/hf_client.py:135: UserWarning: Persisting input arguments took 0.56s to run.If this happens often in your code, it can cause performance problems (results will be correct in all cases). The reason for this is probably some large input arguments for a wrapped function.\n",
      "  response = send_hfvllm_request_v00(\n",
      "/weka/home-nathan/ersatz/venv/lib/python3.11/site-packages/dsp/modules/hf_client.py:135: UserWarning: Persisting input arguments took 0.66s to run.If this happens often in your code, it can cause performance problems (results will be correct in all cases). The reason for this is probably some large input arguments for a wrapped function.\n",
      "  response = send_hfvllm_request_v00(\n",
      "/weka/home-nathan/ersatz/venv/lib/python3.11/site-packages/dsp/modules/hf_client.py:135: UserWarning: Persisting input arguments took 0.66s to run.If this happens often in your code, it can cause performance problems (results will be correct in all cases). The reason for this is probably some large input arguments for a wrapped function.\n",
      "  response = send_hfvllm_request_v00(\n",
      "/weka/home-nathan/ersatz/venv/lib/python3.11/site-packages/dsp/modules/hf_client.py:135: UserWarning: Persisting input arguments took 0.54s to run.If this happens often in your code, it can cause performance problems (results will be correct in all cases). The reason for this is probably some large input arguments for a wrapped function.\n",
      "  response = send_hfvllm_request_v00(\n",
      "/weka/home-nathan/ersatz/venv/lib/python3.11/site-packages/dsp/modules/hf_client.py:135: UserWarning: Persisting input arguments took 0.60s to run.If this happens often in your code, it can cause performance problems (results will be correct in all cases). The reason for this is probably some large input arguments for a wrapped function.\n",
      "  response = send_hfvllm_request_v00(\n",
      "/weka/home-nathan/ersatz/venv/lib/python3.11/site-packages/dsp/modules/hf_client.py:135: UserWarning: Persisting input arguments took 0.61s to run.If this happens often in your code, it can cause performance problems (results will be correct in all cases). The reason for this is probably some large input arguments for a wrapped function.\n",
      "  response = send_hfvllm_request_v00(\n",
      "/weka/home-nathan/ersatz/venv/lib/python3.11/site-packages/dsp/modules/hf_client.py:135: UserWarning: Persisting input arguments took 0.64s to run.If this happens often in your code, it can cause performance problems (results will be correct in all cases). The reason for this is probably some large input arguments for a wrapped function.\n",
      "  response = send_hfvllm_request_v00(\n",
      "/weka/home-nathan/ersatz/venv/lib/python3.11/site-packages/dsp/modules/hf_client.py:135: UserWarning: Persisting input arguments took 0.69s to run.If this happens often in your code, it can cause performance problems (results will be correct in all cases). The reason for this is probably some large input arguments for a wrapped function.\n",
      "  response = send_hfvllm_request_v00(\n",
      "/weka/home-nathan/ersatz/venv/lib/python3.11/site-packages/dsp/modules/hf_client.py:135: UserWarning: Persisting input arguments took 0.60s to run.If this happens often in your code, it can cause performance problems (results will be correct in all cases). The reason for this is probably some large input arguments for a wrapped function.\n",
      "  response = send_hfvllm_request_v00(\n",
      "/weka/home-nathan/ersatz/venv/lib/python3.11/site-packages/dsp/modules/hf_client.py:135: UserWarning: Persisting input arguments took 0.67s to run.If this happens often in your code, it can cause performance problems (results will be correct in all cases). The reason for this is probably some large input arguments for a wrapped function.\n",
      "  response = send_hfvllm_request_v00(\n",
      "/weka/home-nathan/ersatz/venv/lib/python3.11/site-packages/dsp/modules/hf_client.py:135: UserWarning: Persisting input arguments took 0.66s to run.If this happens often in your code, it can cause performance problems (results will be correct in all cases). The reason for this is probably some large input arguments for a wrapped function.\n",
      "  response = send_hfvllm_request_v00(\n",
      "/weka/home-nathan/ersatz/venv/lib/python3.11/site-packages/dsp/modules/hf_client.py:135: UserWarning: Persisting input arguments took 0.73s to run.If this happens often in your code, it can cause performance problems (results will be correct in all cases). The reason for this is probably some large input arguments for a wrapped function.\n",
      "  response = send_hfvllm_request_v00(\n",
      "/weka/home-nathan/ersatz/venv/lib/python3.11/site-packages/dsp/modules/hf_client.py:135: UserWarning: Persisting input arguments took 0.51s to run.If this happens often in your code, it can cause performance problems (results will be correct in all cases). The reason for this is probably some large input arguments for a wrapped function.\n",
      "  response = send_hfvllm_request_v00(\n",
      "/weka/home-nathan/ersatz/venv/lib/python3.11/site-packages/dsp/modules/hf_client.py:135: UserWarning: Persisting input arguments took 0.56s to run.If this happens often in your code, it can cause performance problems (results will be correct in all cases). The reason for this is probably some large input arguments for a wrapped function.\n",
      "  response = send_hfvllm_request_v00(\n",
      "/weka/home-nathan/ersatz/venv/lib/python3.11/site-packages/dsp/modules/hf_client.py:135: UserWarning: Persisting input arguments took 0.59s to run.If this happens often in your code, it can cause performance problems (results will be correct in all cases). The reason for this is probably some large input arguments for a wrapped function.\n",
      "  response = send_hfvllm_request_v00(\n",
      "/weka/home-nathan/ersatz/venv/lib/python3.11/site-packages/dsp/modules/hf_client.py:135: UserWarning: Persisting input arguments took 0.58s to run.If this happens often in your code, it can cause performance problems (results will be correct in all cases). The reason for this is probably some large input arguments for a wrapped function.\n",
      "  response = send_hfvllm_request_v00(\n",
      "/weka/home-nathan/ersatz/venv/lib/python3.11/site-packages/dsp/modules/hf_client.py:135: UserWarning: Persisting input arguments took 0.58s to run.If this happens often in your code, it can cause performance problems (results will be correct in all cases). The reason for this is probably some large input arguments for a wrapped function.\n",
      "  response = send_hfvllm_request_v00(\n",
      "/weka/home-nathan/ersatz/venv/lib/python3.11/site-packages/dsp/modules/hf_client.py:135: UserWarning: Persisting input arguments took 0.59s to run.If this happens often in your code, it can cause performance problems (results will be correct in all cases). The reason for this is probably some large input arguments for a wrapped function.\n",
      "  response = send_hfvllm_request_v00(\n",
      "/weka/home-nathan/ersatz/venv/lib/python3.11/site-packages/dsp/modules/hf_client.py:135: UserWarning: Persisting input arguments took 0.51s to run.If this happens often in your code, it can cause performance problems (results will be correct in all cases). The reason for this is probably some large input arguments for a wrapped function.\n",
      "  response = send_hfvllm_request_v00(\n",
      "/weka/home-nathan/ersatz/venv/lib/python3.11/site-packages/dsp/modules/hf_client.py:135: UserWarning: Persisting input arguments took 0.54s to run.If this happens often in your code, it can cause performance problems (results will be correct in all cases). The reason for this is probably some large input arguments for a wrapped function.\n",
      "  response = send_hfvllm_request_v00(\n",
      "/weka/home-nathan/ersatz/venv/lib/python3.11/site-packages/dsp/modules/hf_client.py:135: UserWarning: Persisting input arguments took 0.59s to run.If this happens often in your code, it can cause performance problems (results will be correct in all cases). The reason for this is probably some large input arguments for a wrapped function.\n",
      "  response = send_hfvllm_request_v00(\n",
      "/weka/home-nathan/ersatz/venv/lib/python3.11/site-packages/dsp/modules/hf_client.py:135: UserWarning: Persisting input arguments took 0.52s to run.If this happens often in your code, it can cause performance problems (results will be correct in all cases). The reason for this is probably some large input arguments for a wrapped function.\n",
      "  response = send_hfvllm_request_v00(\n",
      "/weka/home-nathan/ersatz/venv/lib/python3.11/site-packages/dsp/modules/hf_client.py:135: UserWarning: Persisting input arguments took 0.57s to run.If this happens often in your code, it can cause performance problems (results will be correct in all cases). The reason for this is probably some large input arguments for a wrapped function.\n",
      "  response = send_hfvllm_request_v00(\n",
      "/weka/home-nathan/ersatz/venv/lib/python3.11/site-packages/dsp/modules/hf_client.py:135: UserWarning: Persisting input arguments took 0.58s to run.If this happens often in your code, it can cause performance problems (results will be correct in all cases). The reason for this is probably some large input arguments for a wrapped function.\n",
      "  response = send_hfvllm_request_v00(\n",
      "/weka/home-nathan/ersatz/venv/lib/python3.11/site-packages/dsp/modules/hf_client.py:135: UserWarning: Persisting input arguments took 0.60s to run.If this happens often in your code, it can cause performance problems (results will be correct in all cases). The reason for this is probably some large input arguments for a wrapped function.\n",
      "  response = send_hfvllm_request_v00(\n",
      "/weka/home-nathan/ersatz/venv/lib/python3.11/site-packages/dsp/modules/hf_client.py:135: UserWarning: Persisting input arguments took 0.54s to run.If this happens often in your code, it can cause performance problems (results will be correct in all cases). The reason for this is probably some large input arguments for a wrapped function.\n",
      "  response = send_hfvllm_request_v00(\n",
      "/weka/home-nathan/ersatz/venv/lib/python3.11/site-packages/dsp/modules/hf_client.py:135: UserWarning: Persisting input arguments took 0.56s to run.If this happens often in your code, it can cause performance problems (results will be correct in all cases). The reason for this is probably some large input arguments for a wrapped function.\n",
      "  response = send_hfvllm_request_v00(\n",
      "/weka/home-nathan/ersatz/venv/lib/python3.11/site-packages/dsp/modules/hf_client.py:135: UserWarning: Persisting input arguments took 0.54s to run.If this happens often in your code, it can cause performance problems (results will be correct in all cases). The reason for this is probably some large input arguments for a wrapped function.\n",
      "  response = send_hfvllm_request_v00(\n",
      "/weka/home-nathan/ersatz/venv/lib/python3.11/site-packages/dsp/modules/hf_client.py:135: UserWarning: Persisting input arguments took 0.62s to run.If this happens often in your code, it can cause performance problems (results will be correct in all cases). The reason for this is probably some large input arguments for a wrapped function.\n",
      "  response = send_hfvllm_request_v00(\n",
      "/weka/home-nathan/ersatz/venv/lib/python3.11/site-packages/dsp/modules/hf_client.py:135: UserWarning: Persisting input arguments took 0.75s to run.If this happens often in your code, it can cause performance problems (results will be correct in all cases). The reason for this is probably some large input arguments for a wrapped function.\n",
      "  response = send_hfvllm_request_v00(\n",
      "/weka/home-nathan/ersatz/venv/lib/python3.11/site-packages/dsp/modules/hf_client.py:135: UserWarning: Persisting input arguments took 0.66s to run.If this happens often in your code, it can cause performance problems (results will be correct in all cases). The reason for this is probably some large input arguments for a wrapped function.\n",
      "  response = send_hfvllm_request_v00(\n",
      "/weka/home-nathan/ersatz/venv/lib/python3.11/site-packages/dsp/modules/hf_client.py:135: UserWarning: Persisting input arguments took 0.70s to run.If this happens often in your code, it can cause performance problems (results will be correct in all cases). The reason for this is probably some large input arguments for a wrapped function.\n",
      "  response = send_hfvllm_request_v00(\n",
      "/weka/home-nathan/ersatz/venv/lib/python3.11/site-packages/dsp/modules/hf_client.py:135: UserWarning: Persisting input arguments took 0.68s to run.If this happens often in your code, it can cause performance problems (results will be correct in all cases). The reason for this is probably some large input arguments for a wrapped function.\n",
      "  response = send_hfvllm_request_v00(\n",
      "/weka/home-nathan/ersatz/venv/lib/python3.11/site-packages/dsp/modules/hf_client.py:135: UserWarning: Persisting input arguments took 0.60s to run.If this happens often in your code, it can cause performance problems (results will be correct in all cases). The reason for this is probably some large input arguments for a wrapped function.\n",
      "  response = send_hfvllm_request_v00(\n",
      "/weka/home-nathan/ersatz/venv/lib/python3.11/site-packages/dsp/modules/hf_client.py:135: UserWarning: Persisting input arguments took 0.68s to run.If this happens often in your code, it can cause performance problems (results will be correct in all cases). The reason for this is probably some large input arguments for a wrapped function.\n",
      "  response = send_hfvllm_request_v00(\n",
      "/weka/home-nathan/ersatz/venv/lib/python3.11/site-packages/dsp/modules/hf_client.py:135: UserWarning: Persisting input arguments took 0.54s to run.If this happens often in your code, it can cause performance problems (results will be correct in all cases). The reason for this is probably some large input arguments for a wrapped function.\n",
      "  response = send_hfvllm_request_v00(\n",
      "/weka/home-nathan/ersatz/venv/lib/python3.11/site-packages/dsp/modules/hf_client.py:135: UserWarning: Persisting input arguments took 0.60s to run.If this happens often in your code, it can cause performance problems (results will be correct in all cases). The reason for this is probably some large input arguments for a wrapped function.\n",
      "  response = send_hfvllm_request_v00(\n",
      "/weka/home-nathan/ersatz/venv/lib/python3.11/site-packages/dsp/modules/hf_client.py:135: UserWarning: Persisting input arguments took 0.59s to run.If this happens often in your code, it can cause performance problems (results will be correct in all cases). The reason for this is probably some large input arguments for a wrapped function.\n",
      "  response = send_hfvllm_request_v00(\n",
      "/weka/home-nathan/ersatz/venv/lib/python3.11/site-packages/dsp/modules/hf_client.py:135: UserWarning: Persisting input arguments took 0.75s to run.If this happens often in your code, it can cause performance problems (results will be correct in all cases). The reason for this is probably some large input arguments for a wrapped function.\n",
      "  response = send_hfvllm_request_v00(\n",
      "/weka/home-nathan/ersatz/venv/lib/python3.11/site-packages/dsp/modules/hf_client.py:135: UserWarning: Persisting input arguments took 0.50s to run.If this happens often in your code, it can cause performance problems (results will be correct in all cases). The reason for this is probably some large input arguments for a wrapped function.\n",
      "  response = send_hfvllm_request_v00(\n",
      "/weka/home-nathan/ersatz/venv/lib/python3.11/site-packages/dsp/modules/hf_client.py:135: UserWarning: Persisting input arguments took 0.50s to run.If this happens often in your code, it can cause performance problems (results will be correct in all cases). The reason for this is probably some large input arguments for a wrapped function.\n",
      "  response = send_hfvllm_request_v00(\n",
      "/weka/home-nathan/ersatz/venv/lib/python3.11/site-packages/datasets/table.py:1421: FutureWarning: promote has been superseded by promote_options='default'.\n",
      "  table = cls._concat_blocks(blocks, axis=0)\n"
     ]
    }
   ],
   "source": [
    "REPHRASE_LIKE = \"\"\"\\\n",
    "Rephrase the response to be an executable python script that solves the instruction.\n",
    "Make sure you end the code with a print statement and surround the code with ```.\\\n",
    "\"\"\"\n",
    "code_rephraser = dspy.Predict(RephraseQAorInstructResponse)\n",
    "def rephrase_alpaca(example):\n",
    "    pred = code_rephraser(\n",
    "        original_q_or_instruct=example[\"instruction\"] + \"\\n\" + example[\"input\"],\n",
    "        original_a_or_response=example[\"output\"],\n",
    "        rephrase_like=REPHRASE_LIKE,\n",
    "    )\n",
    "    \n",
    "    code = extract_markdown_code(pred[\"rephrased_a_or_response\"])\n",
    "    if len(code) > 0:\n",
    "        code = code[0]\n",
    "        return {\n",
    "            \"code\": code,\n",
    "            \"parsable\": is_parsable(code),\n",
    "            \"runnable\": None, # is_runnable(code),\n",
    "        }\n",
    "    else:\n",
    "        return {\"code\": pred[\"rephrased_a_or_response\"], \"parsable\": False, \"runnable\": None}\n",
    "\n",
    "dataset = ds.map(\n",
    "    lambda x: rephrase_alpaca(x),\n",
    "    num_proc=90\n",
    ")"
   ]
  },
  {
   "cell_type": "code",
   "execution_count": null,
   "id": "c53820db",
   "metadata": {},
   "outputs": [
    {
     "data": {
      "application/vnd.jupyter.widget-view+json": {
       "model_id": "3ccc8d58b3e54c499623caa0d326e0b1",
       "version_major": 2,
       "version_minor": 0
      },
      "text/plain": [
       "Pushing dataset shards to the dataset hub:   0%|          | 0/1 [00:00<?, ?it/s]"
      ]
     },
     "metadata": {},
     "output_type": "display_data"
    },
    {
     "data": {
      "application/vnd.jupyter.widget-view+json": {
       "model_id": "3911885c277b434ea7fa5cad8d96f737",
       "version_major": 2,
       "version_minor": 0
      },
      "text/plain": [
       "Creating parquet from Arrow format:   0%|          | 0/53 [00:00<?, ?ba/s]"
      ]
     },
     "metadata": {},
     "output_type": "display_data"
    },
    {
     "data": {
      "application/vnd.jupyter.widget-view+json": {
       "model_id": "9607a0c9984747089b5c1fd9802dad87",
       "version_major": 2,
       "version_minor": 0
      },
      "text/plain": [
       "Deleting unused files from dataset repository:   0%|          | 0/1 [00:00<?, ?it/s]"
      ]
     },
     "metadata": {},
     "output_type": "display_data"
    },
    {
     "data": {
      "application/vnd.jupyter.widget-view+json": {
       "model_id": "46924f41896e4f248beaf8624c38e8b1",
       "version_major": 2,
       "version_minor": 0
      },
      "text/plain": [
       "Downloading metadata:   0%|          | 0.00/653 [00:00<?, ?B/s]"
      ]
     },
     "metadata": {},
     "output_type": "display_data"
    }
   ],
   "source": [
    "dataset.push_to_hub(\"ncoop57/code_rephrased_alpaca\", private=True)"
   ]
  },
  {
   "cell_type": "code",
   "execution_count": null,
   "id": "7c453412",
   "metadata": {},
   "outputs": [
    {
     "data": {
      "text/plain": [
       "{'instruction': 'Generate a list of five things one should keep in mind when considering a career change.',\n",
       " 'input': '',\n",
       " 'output': '1. Research potential opportunities and carefully consider options.\\n2. Ensure the new career is truly a good fit.\\n3. Understand the financial and emotional implications of a career change.\\n4. Spend time developing necessary skills and expertise.\\n5. Take into account any personal obligations or familial constraints that may affect your choices.',\n",
       " 'text': 'Below is an instruction that describes a task. Write a response that appropriately completes the request.\\n\\n### Instruction:\\nGenerate a list of five things one should keep in mind when considering a career change.\\n\\n### Response:\\n1. Research potential opportunities and carefully consider options.\\n2. Ensure the new career is truly a good fit.\\n3. Understand the financial and emotional implications of a career change.\\n4. Spend time developing necessary skills and expertise.\\n5. Take into account any personal obligations or familial constraints that may affect your choices.',\n",
       " 'code': 'def generate_career_change_reminders():\\n    reminders = [\\n        \"Research potential opportunities and carefully consider options\",\\n        \"Ensure the new career is truly a good fit\",\\n        \"Understand the financial and emotional implications of a career change\",\\n        \"Spend time developing necessary skills and expertise\",\\n        \"Take into account any personal obligations or familial constraints that may affect your choices\"\\n    ]\\n    return reminders\\n\\nprint(generate_career_change_reminders())',\n",
       " 'parsable': True,\n",
       " 'runnable': None}"
      ]
     },
     "execution_count": null,
     "metadata": {},
     "output_type": "execute_result"
    }
   ],
   "source": [
    "dataset[\"train\"][-2]"
   ]
  },
  {
   "cell_type": "code",
   "execution_count": null,
   "id": "f82f27ea",
   "metadata": {},
   "outputs": [],
   "source": [
    "idx = 0\n",
    "pred = code_rephraser(\n",
    "    original_q_or_instruct=ds[\"train\"][idx][\"instruction\"] + \"\\n\" + ds[\"train\"][idx][\"input\"],\n",
    "    original_a_or_response=ds[\"train\"][idx][\"output\"],\n",
    "    rephrase_like=REPHRASE_LIKE\n",
    "    # \"Rephrase the response to be an executable python script that solves the instruction. Make sure you end the code with a print statement and surround the code with ```\"\n",
    ")\n",
    "print(ds[\"train\"][idx][\"instruction\"] + \"\\n\" + ds[\"train\"][idx][\"input\"])\n",
    "print(\"=\"*40)\n",
    "# print(pred[\"rephrased_q_or_instruct\"])\n",
    "# print(\"=\"*40)\n",
    "print(ds[\"train\"][idx][\"output\"])\n",
    "print(\"=\"*40)\n",
    "# print(pred[\"rephrased_a_or_response\"].split(\"```python\")[-1].split(\"```\")[0])\n",
    "code = extract_markdown_code(pred[\"rephrased_a_or_response\"])[0]\n",
    "print(code)\n",
    "print(is_parsable(code))\n",
    "print(is_runnable(code))"
   ]
  }
 ],
 "metadata": {
  "kernelspec": {
   "display_name": "python3",
   "language": "python",
   "name": "python3"
  }
 },
 "nbformat": 4,
 "nbformat_minor": 5
}
