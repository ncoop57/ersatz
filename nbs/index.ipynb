{
 "cells": [
  {
   "cell_type": "code",
   "execution_count": null,
   "metadata": {},
   "outputs": [],
   "source": [
    "#| hide\n",
    "from ersatz.core import *"
   ]
  },
  {
   "cell_type": "markdown",
   "metadata": {},
   "source": [
    "# ersatz\n",
    "\n",
    "> A library for manufacturing user interactions at scale"
   ]
  },
  {
   "cell_type": "markdown",
   "metadata": {},
   "source": [
    "Library behind the paper: \"Scaling Ersatz User Interactions via Foundation Models for Training AI Agents\"\n",
    "\n",
    "Supports the following Ersatz Interactions:\n",
    "* QA of Documents and Websites\n",
    "* Chat with a bot\n",
    "* Using tools\n",
    "* Performing actions in an environment (e.g. website, mobile phone, PC, etc)\n",
    "\n",
    "Supports the following modalities:\n",
    "* Text\n",
    "* Images\n",
    "* Videos\n",
    "* Audio"
   ]
  },
  {
   "cell_type": "markdown",
   "metadata": {},
   "source": [
    "## Install"
   ]
  },
  {
   "cell_type": "markdown",
   "metadata": {},
   "source": [
    "```sh\n",
    "pip install git+https://github.com/vllm-project/vllm.git\n",
    "pip install ersatz\n",
    "```"
   ]
  },
  {
   "cell_type": "markdown",
   "metadata": {},
   "source": [
    "## How to use"
   ]
  },
  {
   "cell_type": "markdown",
   "metadata": {},
   "source": [
    "First, make sure to start the vllm server with your model of choice:\n",
    "```sh\n",
    "python -m vllm.entrypoints.api_server --model <hf_model_name> --port 8000\n",
    "```"
   ]
  },
  {
   "cell_type": "markdown",
   "metadata": {},
   "source": [
    "We have the following tutorials to get starts:\n",
    "* Visual Web Agent Interactions\n",
    "* Visual Question and Answering\n"
   ]
  },
  {
   "cell_type": "code",
   "execution_count": null,
   "metadata": {},
   "outputs": [],
   "source": [
    "import dspy\n",
    "lm = dspy.HFClientVLLM(model=\"<hf_model_name>\", port=8000, url=\"http://localhost\")"
   ]
  },
  {
   "cell_type": "code",
   "execution_count": null,
   "metadata": {},
   "outputs": [],
   "source": []
  }
 ],
 "metadata": {
  "kernelspec": {
   "display_name": "python3",
   "language": "python",
   "name": "python3"
  }
 },
 "nbformat": 4,
 "nbformat_minor": 4
}
